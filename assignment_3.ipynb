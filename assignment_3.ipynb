{
 "cells": [
  {
   "cell_type": "code",
   "execution_count": 3,
   "id": "25396298-0950-4411-ba7e-f46863986867",
   "metadata": {},
   "outputs": [
    {
     "name": "stdout",
     "output_type": "stream",
     "text": [
      "The odd numbers in list are :  1  3  5  7  9  11  13  15  17  19  21  23  25  "
     ]
    }
   ],
   "source": [
    "#Q1. Which keyword is used to create a function? Create a function to return a list of odd numbers in the\n",
    "#range of 1 to 25.\n",
    "#ANSWER:\n",
    " \n",
    "# def function_name(arguments(optional)): { keyword is use to create function}.example:\n",
    "def odd_num(list):\n",
    "    for i in list:\n",
    "        if i% 2!=0:\n",
    "           yield i \n",
    "   \n",
    "list=[1,2,3,4,5,6,7,8,9,10,11,12,13,14,15,16,17,18,19,20,21,22,23,24,25]\n",
    "print(\"The odd numbers in list are : \", end=\" \")\n",
    "for j in odd_num(list):\n",
    "    print(j ,  end= \"  \")\n",
    "           \n",
    "            \n"
   ]
  },
  {
   "cell_type": "code",
   "execution_count": 8,
   "id": "4bcf87ed-e97f-499e-8069-80a80d7f8174",
   "metadata": {},
   "outputs": [
    {
     "name": "stdout",
     "output_type": "stream",
     "text": [
      "<class 'str'>\n",
      "<class 'int'>\n",
      "<class 'float'>\n",
      "<class 'list'>\n",
      "<class 'tuple'>\n",
      "<class 'complex'>\n"
     ]
    },
    {
     "data": {
      "text/plain": [
       "{'company': 'TVS', 'colour': 'Black', 'max_speed': ' 140 km/h'}"
      ]
     },
     "execution_count": 8,
     "metadata": {},
     "output_type": "execute_result"
    }
   ],
   "source": [
    "#Q2. Why *args and **kwargs is used in some functions? Create a function each for *args and **kwargs\n",
    "#to demonstrate their use.\n",
    "# ANSWER:\n",
    "\n",
    "# sometimes we do not know in advance  how many arguments pass in function so for this we use *args .\n",
    "#if you do not know how many keyword arguments that will be passed into your function, add two asterisk:\n",
    "#** before the parameter name in the function definition.This way the function will receive a dictionary of arguments,\n",
    "#and can access the items accordingly:\n",
    "\n",
    "def data_type(*args): \n",
    "    for i in args:\n",
    "        print(type(i))\n",
    "data_type(\"Anjali\",67,45.67,[5,6,7],(4,5,7),7+0j)   \n",
    "\n",
    "def bike(**kargs):\n",
    "    return kargs\n",
    "    \n",
    "bike( company=\"TVS\" , colour = \"Black\" , max_speed= \" 140 km/h\"  )   \n",
    "    \n",
    "        "
   ]
  },
  {
   "cell_type": "code",
   "execution_count": 2,
   "id": "d897f06c-4088-42dd-87aa-3cfe64bde051",
   "metadata": {},
   "outputs": [
    {
     "name": "stdout",
     "output_type": "stream",
     "text": [
      "2\n",
      "4\n",
      "6\n",
      "8\n",
      "10\n"
     ]
    }
   ],
   "source": [
    "#Q3. What is an iterator in python? Name the method used to initialise the iterator object and the method\n",
    "#used for iteration. Use these methods to print the first five elements of the given list [2, 4, 6, 8, 10, 12, 14,\n",
    "# 16, 18, 20]..\n",
    "#ANSWER:\n",
    "# An iterator in Python is an object that is used to iterate over iterable objects like lists, tuples, dicts, and sets.\n",
    "# The Python iterators object is initialized using the iter() method.\n",
    "list=[2,4,6,8,10,12,14,16,18,20]\n",
    "new_list=list[0:5]\n",
    "list_iter=iter(new_list)\n",
    "for item in list_iter:\n",
    "    print(item)\n",
    "        \n"
   ]
  },
  {
   "cell_type": "code",
   "execution_count": 42,
   "id": "0f23051a-d409-49f1-a225-7c4c86d61e4d",
   "metadata": {},
   "outputs": [
    {
     "name": "stdout",
     "output_type": "stream",
     "text": [
      "0 1 2 3 4 5 6 7 8 9 "
     ]
    }
   ],
   "source": [
    "# Q4. What is a generator function in python? Why yield keyword is used? Give an example of a generator\n",
    "# function.\n",
    "# ANSWER:::\n",
    "# It it define like a normal function , but whenever it need to  generate a value .  It does so with the yield keyword rather \n",
    "#than return.\n",
    "# YIELD KEYWORD: yield keyword is used to create a generator function. A type of function that is memory efficient \n",
    "# and can be used like an iterator object.\n",
    "\"\"\"for example\"\"\"\n",
    "def my_gen(n):\n",
    "# initilize counter\n",
    "     value=0\n",
    "     while value < n:\n",
    "            yield value\n",
    "#increment value by one             \n",
    "            value += 1\n",
    "for value in my_gen(10):\n",
    "    print(value, end =\" \")\n",
    "\n"
   ]
  },
  {
   "cell_type": "code",
   "execution_count": 3,
   "id": "13a39902-e7dc-4870-8007-51a93bb42fec",
   "metadata": {},
   "outputs": [
    {
     "name": "stdout",
     "output_type": "stream",
     "text": [
      "2\n",
      "3\n",
      "5\n",
      "7\n",
      "11\n",
      "13\n",
      "17\n",
      "19\n",
      "23\n",
      "29\n",
      "31\n",
      "37\n",
      "41\n",
      "43\n",
      "47\n",
      "53\n",
      "59\n",
      "61\n",
      "67\n",
      "71\n"
     ]
    }
   ],
   "source": [
    "#  Create a generator function for prime numbers less than 1000. Use the next() method to print the\n",
    "# first 20 prime numbers.\n",
    "def getprimes(n):\n",
    "    for num in range(2, n + 1):\n",
    "        is_prime = True\n",
    "        for j in range(2, int(num**0.5) + 1):\n",
    "            if num % j == 0:\n",
    "                is_prime = False\n",
    "                break\n",
    "        if is_prime:\n",
    "            yield num\n",
    "\n",
    "prime = getprimes(1000)\n",
    "for m in range(20):\n",
    "    print(next(prime))\n",
    " "
   ]
  },
  {
   "cell_type": "code",
   "execution_count": 8,
   "id": "91f9fa64-6662-4067-a74b-751335a188d6",
   "metadata": {},
   "outputs": [
    {
     "name": "stdout",
     "output_type": "stream",
     "text": [
      "1\n",
      "1\n",
      "2\n",
      "3\n",
      "5\n",
      "8\n",
      "13\n",
      "21\n",
      "34\n",
      "55\n"
     ]
    }
   ],
   "source": [
    "# Q6. Write a python program to print the first 10 Fibonacci numbers using a while loop.\n",
    "def fibonacci(n):\n",
    "    \"\"\"This function will print fibonacci sequence\"\"\"\n",
    "    a, b = 0, 1\n",
    "    while True:\n",
    "       yield b\n",
    "       a, b = b, a + b\n",
    "\n",
    "\n",
    "\n",
    "fib=fibonacci(10)\n",
    "for i in range(10):\n",
    "    print(next(fib))"
   ]
  },
  {
   "cell_type": "code",
   "execution_count": 3,
   "id": "8a5c7ec6-84ef-4913-aa21-eaa58734cbe0",
   "metadata": {},
   "outputs": [
    {
     "name": "stdout",
     "output_type": "stream",
     "text": [
      "string into list: ['p', 'w', 's', 'k', 'i', 'l', 'l', 's']\n"
     ]
    }
   ],
   "source": [
    "# Q7. Write a List Comprehension to iterate through the given string: ‘pwskills’.\n",
    "# Expected output: ['p', 'w', 's', 'k', 'i', 'l', 'l', 's']\n",
    "# ANSWER::\n",
    "name=\"pwskills\"\n",
    "name_in_list=[]\n",
    "for i in name:\n",
    "    name_in_list.append(i)\n",
    "print(\"string into list:\", name_in_list)    \n",
    "    "
   ]
  },
  {
   "cell_type": "code",
   "execution_count": 4,
   "id": "cfb990da-3b95-4906-9928-573747306c15",
   "metadata": {},
   "outputs": [
    {
     "name": "stdin",
     "output_type": "stream",
     "text": [
      "Enter any number: 567\n"
     ]
    },
    {
     "name": "stdout",
     "output_type": "stream",
     "text": [
      "Not a palindrome!\n"
     ]
    }
   ],
   "source": [
    "#Q8. Write a python program to check whether a given number is Palindrome or not using a while loop.\n",
    "#ANSWER:\n",
    "num=int(input(\"Enter any number:\"))\n",
    "temp=num\n",
    "rev=0\n",
    "while(num>0):\n",
    "    dig=num%10\n",
    "    rev=rev*10+dig\n",
    "    num=num//10\n",
    "if(temp==rev):\n",
    "    print(\"The {0} number is palindrome!\".format(temp))\n",
    "else:\n",
    "    print(\"Not a palindrome!\")\n",
    "    "
   ]
  },
  {
   "cell_type": "code",
   "execution_count": 1,
   "id": "c7fb8f77-e080-45cb-bacf-b4ec0f9199ed",
   "metadata": {},
   "outputs": [
    {
     "name": "stdout",
     "output_type": "stream",
     "text": [
      "list of number from (0-100): [1, 2, 3, 4, 5, 6, 7, 8, 9, 10, 11, 12, 13, 14, 15, 16, 17, 18, 19, 20, 21, 22, 23, 24, 25, 26, 27, 28, 29, 30, 31, 32, 33, 34, 35, 36, 37, 38, 39, 40, 41, 42, 43, 44, 45, 46, 47, 48, 49, 50, 51, 52, 53, 54, 55, 56, 57, 58, 59, 60, 61, 62, 63, 64, 65, 66, 67, 68, 69, 70, 71, 72, 73, 74, 75, 76, 77, 78, 79, 80, 81, 82, 83, 84, 85, 86, 87, 88, 89, 90, 91, 92, 93, 94, 95, 96, 97, 98, 99, 100]\n",
      "list of odd numbers: [1, 3, 5, 7, 9, 11, 13, 15, 17, 19, 21, 23, 25, 27, 29, 31, 33, 35, 37, 39, 41, 43, 45, 47, 49, 51, 53, 55, 57, 59, 61, 63, 65, 67, 69, 71, 73, 75, 77, 79, 81, 83, 85, 87, 89, 91, 93, 95, 97, 99]\n"
     ]
    }
   ],
   "source": [
    "# Q9. Write a code to print odd numbers from 1 to 100 using list comprehension.\n",
    "# Note: Use a list comprehension to create a list from 1 to 100 and use another List comprehension to filter\n",
    "# out odd numbers.\n",
    "# ANSWER::\n",
    "def odd():\n",
    "    list=[]\n",
    "    new_list=[]\n",
    "    for i in range(1,101):\n",
    "       list.append(i)\n",
    "    print(\"list of number from (0-100):\",list)\n",
    "    for j in (list):\n",
    "        if j %2!=0:\n",
    "            new_list.append(j)\n",
    "    print(\"list of odd numbers:\",new_list)  \n",
    "odd()        \n"
   ]
  }
 ],
 "metadata": {
  "kernelspec": {
   "display_name": "Python 3 (ipykernel)",
   "language": "python",
   "name": "python3"
  },
  "language_info": {
   "codemirror_mode": {
    "name": "ipython",
    "version": 3
   },
   "file_extension": ".py",
   "mimetype": "text/x-python",
   "name": "python",
   "nbconvert_exporter": "python",
   "pygments_lexer": "ipython3",
   "version": "3.10.8"
  },
  "toc-autonumbering": true,
  "toc-showcode": true
 },
 "nbformat": 4,
 "nbformat_minor": 5
}
